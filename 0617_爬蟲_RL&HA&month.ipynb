{
 "cells": [
  {
   "cell_type": "code",
   "execution_count": 1,
   "metadata": {},
   "outputs": [],
   "source": [
    "from bs4 import BeautifulSoup as bs\n",
    "import re\n",
    "import requests\n",
    "import pandas as pd\n",
    "import time\n",
    "import collections\n",
    "import random"
   ]
  },
  {
   "cell_type": "code",
   "execution_count": null,
   "metadata": {},
   "outputs": [],
   "source": [
    "data_all = pd.read_csv('./1090531_test_try_catch.csv') #2004~2020每場比賽\n",
    "del data_all['Unnamed: 0'] \n",
    "#刪掉三隊\n",
    "data_all = data_all[(~data_all['主隊'].isin(['中信','誠泰','米迪亞'])) & (~data_all['客隊'].isin(['中信','誠泰','米迪亞']))]\n",
    "#刪掉投手與非先發\n",
    "data_all = data_all[(data_all['守備位置'] != 'P')&(~data_all['守備位置'].str.startswith(' ('))]"
   ]
  },
  {
   "cell_type": "markdown",
   "metadata": {},
   "source": [
    "# 爬蟲"
   ]
  },
  {
   "cell_type": "code",
   "execution_count": null,
   "metadata": {
    "scrolled": true
   },
   "outputs": [],
   "source": [
    "#舊版打者習慣\n",
    "Lamigo = data_all[(data_all['隊伍'].isin(['Lamigo','樂天']))] #做lamigo\n",
    "ID_lst = list(set(Lamigo['球員ID'].values))\n",
    "print(len(set(Lamigo['球員ID'].values)))\n",
    "type_ = 1 ######################打者習慣#################\n",
    "df_total = pd.DataFrame()\n",
    "num = 0\n",
    "keep_craw = []\n",
    "player_url = []\n",
    "for ID in ID_lst:\n",
    "    print('現在到：'+ str(num))\n",
    "    #url = 'http://www.cpbl.com.tw/players/apart.html?player_id={}&teamno='.format(ID)\n",
    "    url = 'http://www.cpbl.com.tw/players/apart.html?player_id={}'.format(ID)\n",
    "    try:\n",
    "        re = requests.get(url) \n",
    "        time.sleep(random.uniform(1,2))\n",
    "        soup = bs(re.text, 'html.parser')\n",
    "        Year_lst = [option.text for option in soup.find_all(\"select\",{\"class\":\"date_select\"})[1].find_all(\"option\")]\n",
    "        year_lst = [i for i in Year_lst if int(i) >= 2004]\n",
    "        if len(year_lst) > 0:\n",
    "            for year in year_lst:\n",
    "                try:\n",
    "                    response = requests.get(url + f'&year={year}'+f'&type=0{type_}')\n",
    "                    time.sleep(random.uniform(1,2))\n",
    "                    print(url + f'&year={year}'+f'&type=0{type_}')\n",
    "                    if response.status_code != 200:\n",
    "                        print('URL發生錯誤：' + url)\n",
    "                    soup = bs(response.text, 'html.parser')\n",
    "                    table = soup.find_all('tr')\n",
    "                    if len(table)>3:\n",
    "                        #變數名稱\n",
    "                        title_list = table[2].text.split('\\n')\n",
    "                        title_list[0:2] = ['num','R/L']\n",
    "                        df = pd.DataFrame(columns = title_list)\n",
    "                        for i in range(3,len(table)):\n",
    "                            df.loc[i] = table[i].text.split('\\n')\n",
    "                        df['year'] = year\n",
    "                        df['ID'] = ID\n",
    "                        df['team'] = soup.find('div','h1_side').a['href'].replace('/web/team_brief.php?&team=','')\n",
    "                        df_total = pd.concat([df_total,df])\n",
    "                except:\n",
    "                    keep_craw.append(url + f'&year={year}'+f'&type=0{type_}')\n",
    "                    print('這年開不了')\n",
    "                    continue\n",
    "                response.close()\n",
    "    except:\n",
    "        print(\"這個球員開不了\")\n",
    "        player_url.append(url)\n",
    "    num +=1\n",
    "print(len(keep_craw))\n",
    "print(len(player_url))\n",
    "df_total"
   ]
  },
  {
   "cell_type": "code",
   "execution_count": null,
   "metadata": {},
   "outputs": [],
   "source": [
    "temp = df_total.copy()\n",
    "temp"
   ]
  },
  {
   "cell_type": "code",
   "execution_count": null,
   "metadata": {},
   "outputs": [],
   "source": [
    "for i in keep_craw:\n",
    "    response = requests.get(i)\n",
    "    time.sleep(random.uniform(1,2))\n",
    "    soup = bs(response.text, 'html.parser')\n",
    "    table = soup.find_all('tr')\n",
    "    if len(table)>3:\n",
    "        #變數名稱\n",
    "        title_list = table[2].text.split('\\n')\n",
    "        title_list[0:2] = ['num','R/L']\n",
    "        df = pd.DataFrame(columns = title_list)\n",
    "        for i in range(3,len(table)):\n",
    "            df.loc[i] = table[i].text.split('\\n')\n",
    "        df['year'] = year\n",
    "        df['ID'] = ID\n",
    "        df['team'] = soup.find('div','h1_side').a['href'].replace('/web/team_brief.php?&team=','')\n",
    "        df_total = pd.concat([df_total,df])\n",
    "df_total"
   ]
  },
  {
   "cell_type": "code",
   "execution_count": null,
   "metadata": {},
   "outputs": [],
   "source": [
    "df_total.to_csv('./RL_type1.csv',encoding='utf-8',index=False)"
   ]
  },
  {
   "cell_type": "code",
   "execution_count": null,
   "metadata": {},
   "outputs": [],
   "source": [
    "#爬主客順便存月份網址\n",
    "Lamigo = data_all[(data_all['隊伍'].isin(['Lamigo','樂天']))] #做lamigo\n",
    "ID_lst = list(set(Lamigo['球員ID'].values))\n",
    "print(len(set(Lamigo['球員ID'].values)))\n",
    "type_ = 2 ######################主客#################\n",
    "df_total = pd.DataFrame()\n",
    "num = 0\n",
    "keep_craw = []\n",
    "player_url = []\n",
    "month_url = []\n",
    "for ID in ID_lst:\n",
    "    print('現在到：'+ str(num))\n",
    "    #url = 'http://www.cpbl.com.tw/players/apart.html?player_id={}&teamno='.format(ID)\n",
    "    url = 'http://www.cpbl.com.tw/players/apart.html?player_id={}'.format(ID)\n",
    "    try:\n",
    "        re = requests.get(url) \n",
    "        time.sleep(random.uniform(1,2))\n",
    "        soup = bs(re.text, 'html.parser')\n",
    "        Year_lst = [option.text for option in soup.find_all(\"select\",{\"class\":\"date_select\"})[1].find_all(\"option\")]\n",
    "        year_lst = [i for i in Year_lst if int(i) >= 2004]\n",
    "        if len(year_lst) > 0:\n",
    "            for year in year_lst:\n",
    "                try:\n",
    "                    month_url.append(url + f'&year={year}'+'&type=05')\n",
    "                    response = requests.get(url + f'&year={year}'+f'&type=0{type_}')\n",
    "                    time.sleep(random.uniform(1,2))\n",
    "                    #print(url + f'&year={year}'+f'&type=0{type_}')\n",
    "                    if response.status_code != 200:\n",
    "                        print(print('URL發生錯誤：' + url))\n",
    "                    soup = bs(response.text, 'html.parser')\n",
    "                    table = soup.find_all('tr')\n",
    "                    if len(table)>3:\n",
    "                        #變數名稱\n",
    "                        title_list = table[2].text.split('\\n')\n",
    "                        title_list[0:2] = ['num','H/A']\n",
    "                        df = pd.DataFrame(columns = title_list)\n",
    "                        for i in range(3,len(table)):\n",
    "                            df.loc[i] = table[i].text.split('\\n')\n",
    "                        df['year'] = year\n",
    "                        df['ID'] = ID\n",
    "                        df['team'] = soup.find('div','h1_side').a['href'].replace('/web/team_brief.php?&team=','')\n",
    "                        df_total = pd.concat([df_total,df])\n",
    "                except:\n",
    "                    keep_craw.append(url + f'&year={year}'+f'&type=0{type_}')\n",
    "                    print('這年開不了')\n",
    "                    continue\n",
    "                response.close()\n",
    "    except:\n",
    "        print(\"這個球員開不了\")\n",
    "        player_url.append(url)\n",
    "    num +=1\n",
    "print(len(keep_craw))\n",
    "print(len(player_url))\n",
    "print(len(month_url))\n",
    "df_total"
   ]
  },
  {
   "cell_type": "code",
   "execution_count": null,
   "metadata": {},
   "outputs": [],
   "source": [
    "#temp = df_total.copy()\n",
    "temp"
   ]
  },
  {
   "cell_type": "code",
   "execution_count": null,
   "metadata": {},
   "outputs": [],
   "source": [
    "for i in keep_craw:\n",
    "    response = requests.get(i)\n",
    "    time.sleep(random.uniform(1,2))\n",
    "    soup = bs(response.text, 'html.parser')\n",
    "    table = soup.find_all('tr')\n",
    "    if len(table)>3:\n",
    "        #變數名稱\n",
    "        title_list = table[2].text.split('\\n')\n",
    "        title_list[0:2] = ['num','H/A']\n",
    "        df = pd.DataFrame(columns = title_list)\n",
    "        for i in range(3,len(table)):\n",
    "            df.loc[i] = table[i].text.split('\\n')\n",
    "        df['year'] = year\n",
    "        df['ID'] = ID\n",
    "        df['team'] = soup.find('div','h1_side').a['href'].replace('/web/team_brief.php?&team=','')\n",
    "        df_total = pd.concat([df_total,df])\n",
    "df_total"
   ]
  },
  {
   "cell_type": "code",
   "execution_count": null,
   "metadata": {},
   "outputs": [],
   "source": [
    "temp.to_csv('./HA_867_type2.csv',encoding='utf-8',index=False)"
   ]
  },
  {
   "cell_type": "code",
   "execution_count": null,
   "metadata": {},
   "outputs": [],
   "source": [
    "df_total\n",
    "df_total.to_csv('./HA_004634_G073.csv',encoding='utf-8',index=False)"
   ]
  },
  {
   "cell_type": "code",
   "execution_count": null,
   "metadata": {},
   "outputs": [],
   "source": [
    "df_total.to_csv('./HA_type2.csv',encoding='utf-8',index=False)\n",
    "df_total.to_excel('./HA_type2.xlsx',index=False)"
   ]
  },
  {
   "cell_type": "code",
   "execution_count": null,
   "metadata": {},
   "outputs": [],
   "source": []
  },
  {
   "cell_type": "code",
   "execution_count": null,
   "metadata": {
    "scrolled": true
   },
   "outputs": [],
   "source": [
    "#月份\n",
    "df_total = pd.DataFrame()\n",
    "num = 0\n",
    "keep_craw = []\n",
    "for url in month_url:\n",
    "    print('現在到：'+ str(num))\n",
    "    try:\n",
    "        response = requests.get(url)\n",
    "       # print(url)\n",
    "        time.sleep(random.uniform(1,2))\n",
    "        if response.status_code != 200:\n",
    "            print(print('URL發生錯誤：' + url))\n",
    "        soup = bs(response.text, 'html.parser')\n",
    "        table = soup.find_all('tr')\n",
    "        if len(table)>3:\n",
    "            #變數名稱\n",
    "            title_list = table[2].text.split('\\n')\n",
    "            title_list[0:2] = ['num','month']\n",
    "            df = pd.DataFrame(columns = title_list)\n",
    "            for i in range(3,len(table)):\n",
    "                df.loc[i] = table[i].text.split('\\n')\n",
    "            df['year'] = url.replace('http://www.cpbl.com.tw/players/apart.html?player_id=','').split('&')[1][-4:]\n",
    "            df['ID'] = url.replace('http://www.cpbl.com.tw/players/apart.html?player_id=','').split('&')[0]\n",
    "            df['team'] = soup.find('div','h1_side').a['href'].replace('/web/team_brief.php?&team=','')\n",
    "            df_total = pd.concat([df_total,df])\n",
    "    except:\n",
    "        keep_craw.append(url)\n",
    "        print('這年開不了')\n",
    "    num +=1\n",
    "print(len(keep_craw))\n",
    "df_total"
   ]
  },
  {
   "cell_type": "code",
   "execution_count": null,
   "metadata": {},
   "outputs": [],
   "source": [
    "df_total"
   ]
  },
  {
   "cell_type": "code",
   "execution_count": null,
   "metadata": {},
   "outputs": [],
   "source": [
    "df_total.to_csv('./month_type5.csv',encoding='utf-8',index=False)"
   ]
  },
  {
   "cell_type": "code",
   "execution_count": null,
   "metadata": {},
   "outputs": [],
   "source": []
  }
 ],
 "metadata": {
  "kernelspec": {
   "display_name": "Python 3",
   "language": "python",
   "name": "python3"
  },
  "language_info": {
   "codemirror_mode": {
    "name": "ipython",
    "version": 3
   },
   "file_extension": ".py",
   "mimetype": "text/x-python",
   "name": "python",
   "nbconvert_exporter": "python",
   "pygments_lexer": "ipython3",
   "version": "3.7.4"
  }
 },
 "nbformat": 4,
 "nbformat_minor": 2
}
