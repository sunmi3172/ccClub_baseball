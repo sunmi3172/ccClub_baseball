{
 "cells": [
  {
   "cell_type": "code",
   "execution_count": null,
   "metadata": {},
   "outputs": [],
   "source": [
    "import pandas as pd\n",
    "\n",
    "df = pd.read_csv(\"./10906_final_raw_data/1090603_final_data.csv\")"
   ]
  },
  {
   "cell_type": "code",
   "execution_count": null,
   "metadata": {
    "scrolled": true
   },
   "outputs": [],
   "source": [
    "df.head()"
   ]
  },
  {
   "cell_type": "code",
   "execution_count": null,
   "metadata": {
    "scrolled": true
   },
   "outputs": [],
   "source": [
    "df.columns"
   ]
  },
  {
   "cell_type": "markdown",
   "metadata": {},
   "source": [
    "## 球員ID、先發名單對照"
   ]
  },
  {
   "cell_type": "code",
   "execution_count": null,
   "metadata": {},
   "outputs": [],
   "source": [
    "df_ID_NAME = df.set_index('球員ID')['先發名單'].apply(lambda x : x.replace(\" \",\"\").strip())\n",
    "dict_ID_NAME = df_ID_NAME.to_dict()\n",
    "dict_ID_NAME"
   ]
  },
  {
   "cell_type": "markdown",
   "metadata": {},
   "source": [
    "## 隊名統一"
   ]
  },
  {
   "cell_type": "code",
   "execution_count": null,
   "metadata": {
    "scrolled": true
   },
   "outputs": [],
   "source": [
    "Team_1 = ['中信兄弟', '兄弟']\n",
    "Team_2 = ['富邦', '義大', '興農']\n",
    "dict_Team1 = dict.fromkeys(Team_1, '中信兄弟')\n",
    "dict_Team2 = dict.fromkeys(Team_2, '富邦')\n",
    "dict_Team3 = {'統一7-ELEVEn' : '統一7-ELEVEn'}\n",
    "dict_Team_1_2_3 = {**dict_Team1, **dict_Team2, **dict_Team3 }\n",
    "df['敵隊'] = df['敵隊'].map(dict_Team_1_2_3)"
   ]
  },
  {
   "cell_type": "markdown",
   "metadata": {},
   "source": [
    "## Violin plot - 敵隊 - 輸贏"
   ]
  },
  {
   "cell_type": "code",
   "execution_count": null,
   "metadata": {},
   "outputs": [],
   "source": [
    "import plotly.express as px\n",
    "\n",
    "fig = px.violin(df, y=\"TEAM_ops\", x=\"敵隊\", color = \"輸贏\", box=True, points=\"all\",\n",
    "          hover_data=df.columns)\n",
    "fig.show()\n",
    "#fig.write_html(\"file_TEAM_ops.html\")"
   ]
  },
  {
   "cell_type": "markdown",
   "metadata": {},
   "source": [
    "## Violin plot - 主客場 - 輸贏"
   ]
  },
  {
   "cell_type": "code",
   "execution_count": null,
   "metadata": {
    "scrolled": true
   },
   "outputs": [],
   "source": [
    "import plotly.express as px\n",
    "\n",
    "fig = px.violin(df, y=\"H/A_ops\", x=\"主場\", color = \"輸贏\", box=True, points=\"all\",\n",
    "          hover_data=df.columns)\n",
    "fig.show()\n",
    "#fig.write_html(\"file_HA_ops.html\")"
   ]
  },
  {
   "cell_type": "markdown",
   "metadata": {},
   "source": [
    "## Violin plot - 月 - 輸贏"
   ]
  },
  {
   "cell_type": "code",
   "execution_count": null,
   "metadata": {
    "scrolled": true
   },
   "outputs": [],
   "source": [
    "import plotly.express as px\n",
    "\n",
    "fig = px.violin(df, y=\"month_ops\", x=\"月\", color = \"輸贏\", box=True, points=\"all\",\n",
    "          hover_data=df.columns)\n",
    "fig.show()\n",
    "#fig.write_html(\"file_month_ops.html\")"
   ]
  },
  {
   "cell_type": "markdown",
   "metadata": {},
   "source": [
    "## Violin plot - 左右投 - 輸贏"
   ]
  },
  {
   "cell_type": "code",
   "execution_count": null,
   "metadata": {},
   "outputs": [],
   "source": [
    "import plotly.express as px\n",
    "\n",
    "fig = px.violin(df, y=\"R/L_ops\", x=\"左投\", color = \"輸贏\", box=True, points=\"all\",\n",
    "          hover_data=df.columns)\n",
    "fig.show()"
   ]
  }
 ],
 "metadata": {
  "kernelspec": {
   "display_name": "Python 3",
   "language": "python",
   "name": "python3"
  },
  "language_info": {
   "codemirror_mode": {
    "name": "ipython",
    "version": 3
   },
   "file_extension": ".py",
   "mimetype": "text/x-python",
   "name": "python",
   "nbconvert_exporter": "python",
   "pygments_lexer": "ipython3",
   "version": "3.7.3"
  }
 },
 "nbformat": 4,
 "nbformat_minor": 4
}
