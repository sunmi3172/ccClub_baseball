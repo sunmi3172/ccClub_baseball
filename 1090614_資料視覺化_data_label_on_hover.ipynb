{
 "cells": [
  {
   "cell_type": "code",
   "execution_count": null,
   "metadata": {},
   "outputs": [],
   "source": [
    "import pandas as pd\n",
    "\n",
    "df = pd.read_csv(\"./10906_final_raw_data/1090603_final_data.csv\")"
   ]
  },
  {
   "cell_type": "code",
   "execution_count": null,
   "metadata": {
    "scrolled": true
   },
   "outputs": [],
   "source": [
    "df.head()"
   ]
  },
  {
   "cell_type": "code",
   "execution_count": null,
   "metadata": {
    "scrolled": true
   },
   "outputs": [],
   "source": [
    "df.columns"
   ]
  },
  {
   "cell_type": "markdown",
   "metadata": {},
   "source": [
    "## 球員ID、先發名單對照"
   ]
  },
  {
   "cell_type": "code",
   "execution_count": null,
   "metadata": {},
   "outputs": [],
   "source": [
    "df_ID_NAME = df.set_index('球員ID')['先發名單'].apply(lambda x : x.replace(\" \",\"\").strip())\n",
    "dict_ID_NAME = df_ID_NAME.to_dict()\n",
    "dict_ID_NAME"
   ]
  },
  {
   "cell_type": "markdown",
   "metadata": {},
   "source": [
    "## 隊名統一"
   ]
  },
  {
   "cell_type": "code",
   "execution_count": null,
   "metadata": {
    "scrolled": true
   },
   "outputs": [],
   "source": [
    "Team_1 = ['中信兄弟', '兄弟']\n",
    "Team_2 = ['富邦', '義大', '興農']\n",
    "dict_Team1 = dict.fromkeys(Team_1, '中信兄弟')\n",
    "dict_Team2 = dict.fromkeys(Team_2, '富邦')\n",
    "dict_Team3 = {'統一7-ELEVEn' : '統一7-ELEVEn'}\n",
    "dict_Team_1_2_3 = {**dict_Team1, **dict_Team2, **dict_Team3 }\n",
    "df['敵隊'] = df['敵隊'].map(dict_Team_1_2_3)\n",
    "\n",
    "rival_name_list = list(df['敵隊'].value_counts().index)\n",
    "rival_name_list"
   ]
  },
  {
   "cell_type": "markdown",
   "metadata": {},
   "source": [
    "## 樂天 - 主客場 - 各球員歷年ops總平均 "
   ]
  },
  {
   "cell_type": "code",
   "execution_count": null,
   "metadata": {},
   "outputs": [],
   "source": [
    "import plotly.graph_objects as go\n",
    "import pandas as pd"
   ]
  },
  {
   "cell_type": "code",
   "execution_count": null,
   "metadata": {},
   "outputs": [],
   "source": [
    "H_A_list = list(df['主場'].value_counts().index)\n",
    "H_A_list= list(zip(['客場','主場'],H_A_list))\n",
    "H_A_list"
   ]
  },
  {
   "cell_type": "code",
   "execution_count": null,
   "metadata": {},
   "outputs": [],
   "source": [
    "for H_A, index in H_A_list:\n",
    " \n",
    "    df_temp = df[df['主場'] == index].groupby(['球員ID'])[[\"H/A_ops\"]].mean().reset_index()\n",
    "\n",
    "    fig = go.Figure(data=go.Scatter(x=df_temp['球員ID'].map(dict_ID_NAME),\n",
    "                                    y=df_temp['H/A_ops'],\n",
    "                                    marker_color=df_temp['H/A_ops'],\n",
    "                                    mode='markers',\n",
    "                                    text=df_temp.columns)) # hover text goes here\n",
    "\n",
    "    fig.update_layout(title='樂天 v.s {} - 各球員歷年ops總平均'.format(H_A))\n",
    "    fig.show()"
   ]
  },
  {
   "cell_type": "markdown",
   "metadata": {},
   "source": [
    "## 樂天 v.s. 敵隊 - 各球員歷年ops總平均"
   ]
  },
  {
   "cell_type": "code",
   "execution_count": null,
   "metadata": {},
   "outputs": [],
   "source": [
    "rival_name_list"
   ]
  },
  {
   "cell_type": "code",
   "execution_count": null,
   "metadata": {
    "scrolled": true
   },
   "outputs": [],
   "source": [
    "for rival_name in rival_name_list:\n",
    " \n",
    "    df_temp = df[df['敵隊'] == rival_name].groupby(['球員ID'])[[\"TEAM_ops\"]].mean().reset_index()\n",
    "\n",
    "    fig = go.Figure(data=go.Scatter(x=df_temp['球員ID'].map(dict_ID_NAME),\n",
    "                                    y=df_temp['TEAM_ops'],\n",
    "                                    marker_color=df_temp['TEAM_ops'],\n",
    "                                    mode='markers',\n",
    "                                    text=df_temp.columns)) # hover text goes here\n",
    "    \n",
    "    fig.update_layout(title='樂天 v.s {} - 各球員歷年ops總平均'.format(rival_name))\n",
    "    fig.show()"
   ]
  },
  {
   "cell_type": "markdown",
   "metadata": {},
   "source": [
    "## 樂天 v.s. 左右投 - 各球員歷年ops總平均"
   ]
  },
  {
   "cell_type": "code",
   "execution_count": null,
   "metadata": {},
   "outputs": [],
   "source": [
    "left_right_list = list(df['左投'].value_counts().index)\n",
    "left_right_list = list(zip(['右投','左投'],left_right_list))\n",
    "left_right_list"
   ]
  },
  {
   "cell_type": "code",
   "execution_count": null,
   "metadata": {
    "scrolled": true
   },
   "outputs": [],
   "source": [
    "for pitcher, index in left_right_list:\n",
    " \n",
    "    df_temp = df[df['左投'] == index].groupby(['球員ID'])[[\"R/L_ops\"]].mean().reset_index()\n",
    "\n",
    "    fig = go.Figure(data=go.Scatter(x=df_temp['球員ID'].map(dict_ID_NAME),\n",
    "                                    y=df_temp['R/L_ops'],\n",
    "                                    marker_color=df_temp['R/L_ops'],\n",
    "                                    mode='markers',\n",
    "                                    text=df_temp.columns)) # hover text goes here\n",
    "\n",
    "    fig.update_layout(title='樂天 v.s {} - 各球員歷年ops總平均'.format(pitcher))\n",
    "    fig.show()"
   ]
  },
  {
   "cell_type": "markdown",
   "metadata": {},
   "source": [
    "## 樂天 - 月 - 各球員歷年ops總平均 "
   ]
  },
  {
   "cell_type": "code",
   "execution_count": null,
   "metadata": {},
   "outputs": [],
   "source": [
    "month_list = sorted(list(df['月'].value_counts().index))\n",
    "month_list"
   ]
  },
  {
   "cell_type": "code",
   "execution_count": null,
   "metadata": {},
   "outputs": [],
   "source": [
    "for month in month_list:\n",
    " \n",
    "    df_temp = df[df['月'] == month].groupby(['球員ID'])[[\"month_ops\"]].mean().reset_index()\n",
    "\n",
    "    fig = go.Figure(data=go.Scatter(x=df_temp['球員ID'].map(dict_ID_NAME),\n",
    "                                    y=df_temp[\"month_ops\"],\n",
    "                                    marker_color=df_temp[\"month_ops\"],\n",
    "                                    mode='markers',\n",
    "                                    text=df_temp.columns)) # hover text goes here\n",
    "\n",
    "    fig.update_layout(title='樂天 - {}月 - 各球員歷年ops總平均'.format(month))\n",
    "    fig.show()"
   ]
  }
 ],
 "metadata": {
  "kernelspec": {
   "display_name": "Python 3",
   "language": "python",
   "name": "python3"
  },
  "language_info": {
   "codemirror_mode": {
    "name": "ipython",
    "version": 3
   },
   "file_extension": ".py",
   "mimetype": "text/x-python",
   "name": "python",
   "nbconvert_exporter": "python",
   "pygments_lexer": "ipython3",
   "version": "3.7.3"
  }
 },
 "nbformat": 4,
 "nbformat_minor": 4
}
